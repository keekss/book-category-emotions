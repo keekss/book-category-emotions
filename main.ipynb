{
 "cells": [
  {
   "cell_type": "markdown",
   "metadata": {
    "id": "U1rx8cLmalyg"
   },
   "source": [
    "# TODO\n",
    "\n",
    "* number sections\n",
    "* acknowledgement of reqs"
   ]
  },
  {
   "cell_type": "markdown",
   "metadata": {
    "id": "dol_9Tj8HNoS"
   },
   "source": [
    "# Book Genres vs. Emotions with PySpark and Sentence Transformers\n",
    "\n",
    "### Nicholas (Kiko) Whiteley\n",
    "\n",
    "### ICS 438 Final Project - Fall 2022"
   ]
  },
  {
   "cell_type": "markdown",
   "metadata": {},
   "source": [
    "## Abstract\n",
    "\n",
    "A book's description often serves as a \"hook\" to entice the reader.  These descriptions are well-crafted and concise but can nonetheless can be several sentences long.\n",
    "\n",
    "This project leverages PySpark's parallelism to analyze over 1 million books, charting the relationship between their provided descriptions and tagged genres."
   ]
  },
  {
   "cell_type": "markdown",
   "metadata": {
    "id": "6AGv0Py7TcJi"
   },
   "source": [
    "## How To Run This Project\n",
    "\n",
    "This project is intended to be run in the PySpark Docker environment from Assignment 1.\n",
    "\n",
    "It uses the default Python 3 ipykernel, so the included installs should be sufficient.\n",
    "\n",
    "Run the following command from the project directory:\n",
    "\n",
    "```\n",
    "docker run --rm -p 4040:4040 -p 8888:8888 -v $(pwd):/home/jovyan/work jupyter/all-spark-notebook\n",
    "```"
   ]
  },
  {
   "cell_type": "code",
   "execution_count": 149,
   "metadata": {
    "id": "UKy7is9M2vTU"
   },
   "outputs": [],
   "source": [
    "import os, re\n",
    "import numpy as np\n",
    "import pandas as pd\n",
    "import matplotlib.pyplot as plt\n",
    "\n",
    "from tqdm import tqdm\n",
    "from functools import partial\n",
    "tqdm = partial(tqdm, position=0, leave=True)\n",
    "\n",
    "from IPython.display import clear_output\n",
    "!pip install sentence-transformers\n",
    "!pip install pyspark\n",
    "!pip install nltk\n",
    "import nltk\n",
    "nltk.download('punkt')\n",
    "clear_output()\n",
    "\n",
    "from sentence_transformers import SentenceTransformer, util\n",
    "from transformers import AutoTokenizer, AutoModelWithLMHead"
   ]
  },
  {
   "cell_type": "markdown",
   "metadata": {},
   "source": [
    "## Dataset Setup"
   ]
  },
  {
   "cell_type": "markdown",
   "metadata": {
    "id": "Tc5fCaypGk9X",
    "tags": []
   },
   "source": [
    "Dataset was downloaded [from Kaggle](https://www.kaggle.com/datasets/sp1thas/book-depository-dataset)\n",
    "\n",
    "After download, the file `datasets.csv.zip` was unzipped and renamed `books_raw.csv`."
   ]
  },
  {
   "cell_type": "markdown",
   "metadata": {
    "id": "_guITvs92yWG",
    "tags": []
   },
   "source": [
    "### Data Directory\n",
    "\n",
    "Edit `DATA_DIR` if needed."
   ]
  },
  {
   "cell_type": "code",
   "execution_count": 2,
   "metadata": {},
   "outputs": [],
   "source": [
    "DATA_DIR = f'{os.getcwd()}/data'\n",
    "assert os.path.isdir(DATA_DIR)"
   ]
  },
  {
   "cell_type": "markdown",
   "metadata": {},
   "source": [
    "### Data Paths"
   ]
  },
  {
   "cell_type": "code",
   "execution_count": 3,
   "metadata": {
    "id": "-MVA9Cmlu3Y8"
   },
   "outputs": [],
   "source": [
    "FILE_NAMES = ['books_raw', 'categories', 'features']\n",
    "\n",
    "def csv_or_zip(file_name):\n",
    "    path = f'{DATA_DIR}/{file_name}.csv'\n",
    "    if os.path.exists(path):\n",
    "        return path\n",
    "    elif os.path.exists(f'{path}.zip'):\n",
    "        return f'{path}.zip'\n",
    "    else:\n",
    "        print(f'No path found for `{file_name}`.')\n",
    "        return None\n",
    "\n",
    "PATHS = {\n",
    "    name: csv_or_zip(name) for name in FILE_NAMES\n",
    "}"
   ]
  },
  {
   "cell_type": "markdown",
   "metadata": {},
   "source": [
    "## Dataset Overview\n",
    "\n",
    "The main file (`books_raw.csv`) contains over 1 million rows (one for each book) with 28 features.  Encoded feature values are included in the other `.csv` files.\n",
    "\n",
    "### Features of Interest"
   ]
  },
  {
   "cell_type": "code",
   "execution_count": 4,
   "metadata": {
    "colab": {
     "base_uri": "https://localhost:8080/",
     "height": 112
    },
    "executionInfo": {
     "elapsed": 293,
     "status": "ok",
     "timestamp": 1671014260080,
     "user": {
      "displayName": "Keeks Keeks",
      "userId": "10987840626541342075"
     },
     "user_tz": 600
    },
    "id": "E0Oo1iFU0WhA",
    "outputId": "234c9a28-6d1d-437c-a9db-d7d94bf237fe"
   },
   "outputs": [
    {
     "data": {
      "text/html": [
       "<style type=\"text/css\">\n",
       "#T_c8d88 th {\n",
       "  text-align: left;\n",
       "}\n",
       "#T_c8d88 td {\n",
       "  text-align: left;\n",
       "}\n",
       "</style>\n",
       "<table id=\"T_c8d88\">\n",
       "  <thead>\n",
       "    <tr>\n",
       "      <th class=\"blank level0\" >&nbsp;</th>\n",
       "      <th id=\"T_c8d88_level0_col0\" class=\"col_heading level0 col0\" >Feature</th>\n",
       "      <th id=\"T_c8d88_level0_col1\" class=\"col_heading level0 col1\" >Column Name</th>\n",
       "      <th id=\"T_c8d88_level0_col2\" class=\"col_heading level0 col2\" >Data Type</th>\n",
       "      <th id=\"T_c8d88_level0_col3\" class=\"col_heading level0 col3\" >Details</th>\n",
       "    </tr>\n",
       "  </thead>\n",
       "  <tbody>\n",
       "    <tr>\n",
       "      <th id=\"T_c8d88_level0_row0\" class=\"row_heading level0 row0\" >0</th>\n",
       "      <td id=\"T_c8d88_row0_col0\" class=\"data row0 col0\" >Description</td>\n",
       "      <td id=\"T_c8d88_row0_col1\" class=\"data row0 col1\" >`description`</td>\n",
       "      <td id=\"T_c8d88_row0_col2\" class=\"data row0 col2\" >String</td>\n",
       "      <td id=\"T_c8d88_row0_col3\" class=\"data row0 col3\" >Premise / preview / details.</td>\n",
       "    </tr>\n",
       "    <tr>\n",
       "      <th id=\"T_c8d88_level0_row1\" class=\"row_heading level0 row1\" >1</th>\n",
       "      <td id=\"T_c8d88_row1_col0\" class=\"data row1 col0\" >Categories</td>\n",
       "      <td id=\"T_c8d88_row1_col1\" class=\"data row1 col1\" >`categories`</td>\n",
       "      <td id=\"T_c8d88_row1_col2\" class=\"data row1 col2\" >List of integers</td>\n",
       "      <td id=\"T_c8d88_row1_col3\" class=\"data row1 col3\" >Genre tags.  Integers map to strings in `categories.csv`.</td>\n",
       "    </tr>\n",
       "  </tbody>\n",
       "</table>\n"
      ],
      "text/plain": [
       "<pandas.io.formats.style.Styler at 0xffff5d3bb5e0>"
      ]
     },
     "metadata": {},
     "output_type": "display_data"
    }
   ],
   "source": [
    "display_left_align = lambda df: display(\n",
    "    df.style.set_table_styles([\n",
    "        dict(\n",
    "            selector = 'th',\n",
    "            props = [('text-align', 'left')]\n",
    "        ),\n",
    "        dict(\n",
    "            selector = 'td',\n",
    "            props = [('text-align', 'left')]\n",
    "        )\n",
    "    ])\n",
    ")\n",
    "\n",
    "display_left_align(pd.read_csv(PATHS['features']))"
   ]
  },
  {
   "cell_type": "code",
   "execution_count": 5,
   "metadata": {},
   "outputs": [],
   "source": [
    "from pyspark import SparkContext\n",
    "\n",
    "# Start Spark Context if not started.\n",
    "try:\n",
    "    sc = SparkContext()\n",
    "except:\n",
    "    pass"
   ]
  },
  {
   "cell_type": "code",
   "execution_count": 6,
   "metadata": {},
   "outputs": [],
   "source": [
    "# rdd.take(1)"
   ]
  },
  {
   "cell_type": "code",
   "execution_count": 7,
   "metadata": {},
   "outputs": [
    {
     "data": {
      "text/plain": [
       "5"
      ]
     },
     "execution_count": 7,
     "metadata": {},
     "output_type": "execute_result"
    }
   ],
   "source": [
    "import multiprocessing\n",
    "\n",
    "multiprocessing.cpu_count()\n",
    "\n"
   ]
  },
  {
   "cell_type": "code",
   "execution_count": 8,
   "metadata": {},
   "outputs": [
    {
     "data": {
      "text/plain": [
       "<pyspark.conf.SparkConf at 0xffff5ceca1d0>"
      ]
     },
     "execution_count": 8,
     "metadata": {},
     "output_type": "execute_result"
    }
   ],
   "source": [
    "sc.getConf()"
   ]
  },
  {
   "cell_type": "code",
   "execution_count": 9,
   "metadata": {
    "id": "EnAEqo6sHIQB"
   },
   "outputs": [],
   "source": [
    "\n",
    "from pyspark.sql import SparkSession\n",
    "from pyspark.sql.types import StructType, StringType, IntegerType \n",
    "from pyspark.sql.types import ArrayType, DoubleType, BooleanType\n",
    "\n",
    "\n",
    "\n",
    "session = SparkSession(sc)\n",
    "# session = SparkSession.builder.appName('temp').getOrCreate()\n",
    "# session = SparkSession.builder.appName('temp').config(\n",
    "#     \"spark.driver.extraJavaOptions\",\n",
    "#     \"--add-opens=java.base/sun.nio.ch=ALL-UNNAMED --add-opens=java.base/java.lang=ALL-UNNAMED --add-opens=java.base/java.util=ALL-UNNAMED\",\n",
    "# ).getOrCreate()\n"
   ]
  },
  {
   "cell_type": "markdown",
   "metadata": {},
   "source": [
    "> NOTE: The `categories` column from `books_raw.csv` was not compatible to be read as an `Array<int>` data type with a custom PySpark schema.  It is read as a string and handled later."
   ]
  },
  {
   "cell_type": "code",
   "execution_count": 10,
   "metadata": {},
   "outputs": [
    {
     "name": "stdout",
     "output_type": "stream",
     "text": [
      "CSV data source does not support array<int> data type. \n",
      "\n",
      "Proceeding with string datatype for `categories` column.\n"
     ]
    }
   ],
   "source": [
    "import pyspark.sql.utils\n",
    "\n",
    "try:\n",
    "    schema = StructType() \\\n",
    "        .add('categories', ArrayType(IntegerType()), True) \\\n",
    "        .add('description', StringType(), True)\n",
    "    books = session.read \\\n",
    "        .options(header='true') \\\n",
    "        .schema(schema) \\\n",
    "        .csv(PATHS['books_raw']\n",
    "    )\n",
    "except pyspark.sql.utils.AnalysisException as e:\n",
    "    print(e, '\\n')\n",
    "    print('Proceeding with string datatype for `categories` column.')\n",
    "    books = session.read \\\n",
    "    .options(header='true', inferSchema=True) \\\n",
    "    .csv(PATHS['books_raw'])"
   ]
  },
  {
   "cell_type": "code",
   "execution_count": 11,
   "metadata": {},
   "outputs": [],
   "source": [
    "# Only keep features of interest; rename columns to shorter names.\n",
    "books = books.selectExpr(\n",
    "    'description as desc',\n",
    "    'categories as cat_ids_raw'\n",
    ")\n",
    "books = books.repartition(1000)"
   ]
  },
  {
   "cell_type": "markdown",
   "metadata": {},
   "source": [
    "### Total number of books"
   ]
  },
  {
   "cell_type": "code",
   "execution_count": 12,
   "metadata": {},
   "outputs": [
    {
     "data": {
      "text/plain": [
       "'1110594 (1.111 million) total books.'"
      ]
     },
     "execution_count": 12,
     "metadata": {},
     "output_type": "execute_result"
    }
   ],
   "source": [
    "'%d (%.3f million) total books.' % (\n",
    "    books.count(),\n",
    "    books.count()/1e6\n",
    ")"
   ]
  },
  {
   "cell_type": "markdown",
   "metadata": {},
   "source": [
    "## Category Names & IDs"
   ]
  },
  {
   "cell_type": "code",
   "execution_count": 13,
   "metadata": {
    "colab": {
     "base_uri": "https://localhost:8080/",
     "height": 35
    },
    "executionInfo": {
     "elapsed": 424,
     "status": "ok",
     "timestamp": 1671098223412,
     "user": {
      "displayName": "Keeks Keeks",
      "userId": "10987840626541342075"
     },
     "user_tz": 600
    },
    "id": "A2ooGBia4ksI",
    "outputId": "07fcb796-30cc-4015-822e-a450117fb77a"
   },
   "outputs": [],
   "source": [
    "categories = session.read \\\n",
    "    .options(header='true', inferschema='true') \\\n",
    "    .csv(PATHS['categories']\n",
    ")\n",
    "categories = categories.selectExpr(\n",
    "    'category_id as id_raw',\n",
    "    'category_name as name'\n",
    ")"
   ]
  },
  {
   "cell_type": "code",
   "execution_count": 14,
   "metadata": {},
   "outputs": [
    {
     "name": "stderr",
     "output_type": "stream",
     "text": [
      "100%|██████████| 2775/2775 [00:00<00:00, 44384.93it/s]\n"
     ]
    }
   ],
   "source": [
    "e = 0\n",
    "for i in tqdm(categories.toLocalIterator(), total=2775):\n",
    "    if e < 4000:\n",
    "        if type(i.id_raw) != int:\n",
    "            print(type(i.id_raw))\n",
    "        e+=1\n",
    "    else:\n",
    "        break"
   ]
  },
  {
   "cell_type": "code",
   "execution_count": 15,
   "metadata": {},
   "outputs": [],
   "source": [
    "# categories.select(categories.id_raw, F.array_position(categories.id_raw, 0)).show()"
   ]
  },
  {
   "cell_type": "markdown",
   "metadata": {},
   "source": [
    "### Number of unique"
   ]
  },
  {
   "cell_type": "code",
   "execution_count": 16,
   "metadata": {},
   "outputs": [
    {
     "name": "stdout",
     "output_type": "stream",
     "text": [
      "+-------------+-----------+\n",
      "|count(id_raw)|count(name)|\n",
      "+-------------+-----------+\n",
      "|         2775|       2585|\n",
      "+-------------+-----------+\n",
      "\n"
     ]
    }
   ],
   "source": [
    "from pyspark.sql import functions as F\n",
    "categories.agg(\n",
    "    F.countDistinct(F.col('id_raw')),\n",
    "    F.countDistinct(F.col('name'))\n",
    ").show()"
   ]
  },
  {
   "cell_type": "markdown",
   "metadata": {},
   "source": [
    "Since there are more unique IDs than names, `190 = 2775-2585` IDs map to duplicate names.\n",
    "\n",
    "Furthermore, not all IDs are used, as shown below:"
   ]
  },
  {
   "cell_type": "code",
   "execution_count": 17,
   "metadata": {},
   "outputs": [
    {
     "name": "stdout",
     "output_type": "stream",
     "text": [
      "+-----------+-----------+\n",
      "|min(id_raw)|max(id_raw)|\n",
      "+-----------+-----------+\n",
      "|          2|       3390|\n",
      "+-----------+-----------+\n",
      "\n"
     ]
    }
   ],
   "source": [
    "categories.agg(\n",
    "    F.min(F.col('id_raw')),\n",
    "    F.max(F.col('id_raw'))\n",
    ").show()"
   ]
  },
  {
   "cell_type": "markdown",
   "metadata": {},
   "source": [
    "`615 = 3390-2275` category IDs are not used.\n",
    "\n",
    "Thus, IDs should be reindexed so that all IDs are used and duplicates map to the same ID."
   ]
  },
  {
   "cell_type": "code",
   "execution_count": 18,
   "metadata": {},
   "outputs": [
    {
     "data": {
      "image/png": "[encoded data removed]",
      "text/plain": [
       "<Figure size 400x400 with 1 Axes>"
      ]
     },
     "metadata": {},
     "output_type": "display_data"
    }
   ],
   "source": [
    "# import matplotlib.colors as mcolors\n",
    "\n",
    "CAT_ID_COMP = dict(\n",
    "    Unique    = 2585,\n",
    "    Unused    = 615,\n",
    "    Duplicate = 190\n",
    ")\n",
    "assert np.sum(list(CAT_ID_COMP.values()))==3390\n",
    "\n",
    "fig = plt.figure(figsize=(4,4))\n",
    "plt.title('Category ID to Name Mappings')\n",
    "_ = plt.pie(\n",
    "    CAT_ID_COMP.values(),\n",
    "    labels = CAT_ID_COMP.keys(),\n",
    "    colors=['palegreen', 'lightgray', 'salmon']\n",
    ")\n"
   ]
  },
  {
   "cell_type": "markdown",
   "metadata": {},
   "source": [
    "## Reindexing Category IDs\n",
    "\n",
    "Since `categories.csv` has less than 3000 rows, load it into RAM for now."
   ]
  },
  {
   "cell_type": "code",
   "execution_count": 19,
   "metadata": {},
   "outputs": [
    {
     "data": {
      "text/plain": [
       "id_raw     int32\n",
       "name      object\n",
       "dtype: object"
      ]
     },
     "execution_count": 19,
     "metadata": {},
     "output_type": "execute_result"
    }
   ],
   "source": [
    "cats_df = categories.toPandas()\n",
    "cats_df.dtypes"
   ]
  },
  {
   "cell_type": "markdown",
   "metadata": {},
   "source": [
    "IDs will be reassigned to their alphabetical position in the list, duplicates removed."
   ]
  },
  {
   "cell_type": "code",
   "execution_count": 20,
   "metadata": {},
   "outputs": [],
   "source": [
    "cat_names = list(cats_df.name.unique())\n",
    "cat_names.sort()"
   ]
  },
  {
   "cell_type": "code",
   "execution_count": 21,
   "metadata": {},
   "outputs": [
    {
     "data": {
      "text/html": [
       "<div>\n",
       "<style scoped>\n",
       "    .dataframe tbody tr th:only-of-type {\n",
       "        vertical-align: middle;\n",
       "    }\n",
       "\n",
       "    .dataframe tbody tr th {\n",
       "        vertical-align: top;\n",
       "    }\n",
       "\n",
       "    .dataframe thead th {\n",
       "        text-align: right;\n",
       "    }\n",
       "</style>\n",
       "<table border=\"1\" class=\"dataframe\">\n",
       "  <thead>\n",
       "    <tr style=\"text-align: right;\">\n",
       "      <th></th>\n",
       "      <th>id_raw</th>\n",
       "      <th>name</th>\n",
       "      <th>id_clean</th>\n",
       "    </tr>\n",
       "  </thead>\n",
       "  <tbody>\n",
       "    <tr>\n",
       "      <th>0</th>\n",
       "      <td>1998</td>\n",
       "      <td>.Net Programming</td>\n",
       "      <td>0</td>\n",
       "    </tr>\n",
       "    <tr>\n",
       "      <th>1</th>\n",
       "      <td>176</td>\n",
       "      <td>20th Century &amp; Contemporary Classical Music</td>\n",
       "      <td>1</td>\n",
       "    </tr>\n",
       "    <tr>\n",
       "      <th>2</th>\n",
       "      <td>3291</td>\n",
       "      <td>20th Century &amp; Contemporary Classical Music</td>\n",
       "      <td>1</td>\n",
       "    </tr>\n",
       "    <tr>\n",
       "      <th>3</th>\n",
       "      <td>2659</td>\n",
       "      <td>20th Century History: C 1900  To C 2000</td>\n",
       "      <td>2</td>\n",
       "    </tr>\n",
       "    <tr>\n",
       "      <th>4</th>\n",
       "      <td>2661</td>\n",
       "      <td>21st Century History: From C 2000 -</td>\n",
       "      <td>3</td>\n",
       "    </tr>\n",
       "    <tr>\n",
       "      <th>...</th>\n",
       "      <td>...</td>\n",
       "      <td>...</td>\n",
       "      <td>...</td>\n",
       "    </tr>\n",
       "    <tr>\n",
       "      <th>2770</th>\n",
       "      <td>1634</td>\n",
       "      <td>Zoology: Invertebrates</td>\n",
       "      <td>2580</td>\n",
       "    </tr>\n",
       "    <tr>\n",
       "      <th>2771</th>\n",
       "      <td>1644</td>\n",
       "      <td>Zoology: Mammals</td>\n",
       "      <td>2581</td>\n",
       "    </tr>\n",
       "    <tr>\n",
       "      <th>2772</th>\n",
       "      <td>1639</td>\n",
       "      <td>Zoology: Vertebrates</td>\n",
       "      <td>2582</td>\n",
       "    </tr>\n",
       "    <tr>\n",
       "      <th>2773</th>\n",
       "      <td>3007</td>\n",
       "      <td>Zoos &amp; Wildlife Parks</td>\n",
       "      <td>2583</td>\n",
       "    </tr>\n",
       "    <tr>\n",
       "      <th>2774</th>\n",
       "      <td>3215</td>\n",
       "      <td>Zoroastrianism</td>\n",
       "      <td>2584</td>\n",
       "    </tr>\n",
       "  </tbody>\n",
       "</table>\n",
       "<p>2775 rows × 3 columns</p>\n",
       "</div>"
      ],
      "text/plain": [
       "      id_raw                                         name  id_clean\n",
       "0       1998                             .Net Programming         0\n",
       "1        176  20th Century & Contemporary Classical Music         1\n",
       "2       3291  20th Century & Contemporary Classical Music         1\n",
       "3       2659      20th Century History: C 1900  To C 2000         2\n",
       "4       2661          21st Century History: From C 2000 -         3\n",
       "...      ...                                          ...       ...\n",
       "2770    1634                       Zoology: Invertebrates      2580\n",
       "2771    1644                             Zoology: Mammals      2581\n",
       "2772    1639                         Zoology: Vertebrates      2582\n",
       "2773    3007                        Zoos & Wildlife Parks      2583\n",
       "2774    3215                               Zoroastrianism      2584\n",
       "\n",
       "[2775 rows x 3 columns]"
      ]
     },
     "execution_count": 21,
     "metadata": {},
     "output_type": "execute_result"
    }
   ],
   "source": [
    "def cat_id_to_name(cat_id, raw=True):\n",
    "    id_col = 'id_raw' if raw else 'id_clean'\n",
    "    return cats_df.loc[cats_df[id_col]==cat_id].name.values[0]\n",
    "\n",
    "def cat_id_raw_to_clean(id_raw):\n",
    "    name = cat_id_to_name(id_raw)\n",
    "    return cat_names.index(name)\n",
    "\n",
    "\n",
    "\n",
    "cats_df['id_clean'] = cats_df.id_raw.apply(cat_id_raw_to_clean)\n",
    "assert np.amax(cats_df.id_clean)==(CAT_ID_COMP['Unique']-1)\n",
    "cats_df"
   ]
  },
  {
   "cell_type": "code",
   "execution_count": 22,
   "metadata": {},
   "outputs": [
    {
     "data": {
      "text/plain": [
       "'/home/jovyan/work/data/categories.csv'"
      ]
     },
     "execution_count": 22,
     "metadata": {},
     "output_type": "execute_result"
    }
   ],
   "source": [
    "PATHS['categories']"
   ]
  },
  {
   "cell_type": "code",
   "execution_count": 23,
   "metadata": {},
   "outputs": [
    {
     "name": "stdout",
     "output_type": "stream",
     "text": [
      "Invalid number: 3.3\n",
      "Invalid number: A\n"
     ]
    },
    {
     "data": {
      "text/plain": [
       "[-1, nan, 4, nan]"
      ]
     },
     "execution_count": 23,
     "metadata": {},
     "output_type": "execute_result"
    }
   ],
   "source": [
    "def str_to_int_list(s):\n",
    "    s = str(s)\n",
    "    # Replace brackets and commas with spaces, then tokenize.\n",
    "    s = re.sub(r'[\\[\\]\\,]', ' ', s).split()\n",
    "    # Convert to int if possible.\n",
    "    def int_or_nan(e):\n",
    "        try:\n",
    "            # Ensure no decimals.\n",
    "            assert int(e)==float(e)\n",
    "            return int(e)\n",
    "        except:\n",
    "            # Category ID 0 will denote missing value.\n",
    "            print(f'Invalid number: {e}')\n",
    "            return np.nan\n",
    "    return [int_or_nan(e) for e in s]\n",
    "\n",
    "str_to_int_list('[-1,  3.3,4, A]')"
   ]
  },
  {
   "cell_type": "code",
   "execution_count": 24,
   "metadata": {},
   "outputs": [],
   "source": [
    "cat_id_raw_to_clean = lambda id_raw: \\\n",
    "    cats_df.loc[cats_df.id_raw==id_raw].id_clean.values[0]\n",
    "\n",
    "# Test case\n",
    "assert cat_id_raw_to_clean(1634)==2580"
   ]
  },
  {
   "cell_type": "code",
   "execution_count": 25,
   "metadata": {},
   "outputs": [
    {
     "data": {
      "text/plain": [
       "'[0, 1]'"
      ]
     },
     "execution_count": 25,
     "metadata": {},
     "output_type": "execute_result"
    }
   ],
   "source": [
    "def reindex_cat_ids(ids_raw_str):\n",
    "    try:\n",
    "        ids_raw   = str_to_int_list(ids_raw_str)\n",
    "        ids_clean = [cat_id_raw_to_clean(e) for e in ids_raw]\n",
    "        ids_clean = list(set(ids_clean))\n",
    "        ids_clean.sort()\n",
    "        return str(ids_clean)\n",
    "    except:\n",
    "        return str([])\n",
    "\n",
    "reindex_cat_ids('[1998, 176]')"
   ]
  },
  {
   "cell_type": "markdown",
   "metadata": {},
   "source": [
    "Use a PySpark User-Defined Function (`udf`) to reindex categories."
   ]
  },
  {
   "cell_type": "code",
   "execution_count": 26,
   "metadata": {},
   "outputs": [],
   "source": [
    "from pyspark.sql.functions import udf\n",
    "udf_reindex_cat_ids = udf(reindex_cat_ids, StringType())\n",
    "\n",
    "\n",
    "books = books.withColumn(\n",
    "    'cat_ids_clean', udf_reindex_cat_ids('cat_ids_raw')\n",
    ")"
   ]
  },
  {
   "cell_type": "code",
   "execution_count": 27,
   "metadata": {},
   "outputs": [
    {
     "name": "stdout",
     "output_type": "stream",
     "text": [
      "Cat IDs, Raw:   [364, 2633, 368, 2637]\n",
      "Cat IDs, Clean: [1053, 1058]\n"
     ]
    }
   ],
   "source": [
    "cat_ids_first_row = books.select('cat_ids_raw', 'cat_ids_clean').take(1)[0]\n",
    "print(f'Cat IDs, Raw:   {cat_ids_first_row[0]}')\n",
    "print(f'Cat IDs, Clean: {cat_ids_first_row[1]}')"
   ]
  },
  {
   "cell_type": "code",
   "execution_count": 28,
   "metadata": {},
   "outputs": [
    {
     "data": {
      "text/plain": [
       "'[364, 2633, 368, 2637]'"
      ]
     },
     "execution_count": 28,
     "metadata": {},
     "output_type": "execute_result"
    }
   ],
   "source": [
    "cat_ids_first_row[0]"
   ]
  },
  {
   "cell_type": "code",
   "execution_count": 29,
   "metadata": {},
   "outputs": [
    {
     "data": {
      "text/plain": [
       "StructType([StructField('desc', StringType(), True), StructField('cat_ids_raw', StringType(), True), StructField('cat_ids_clean', StringType(), True)])"
      ]
     },
     "execution_count": 29,
     "metadata": {},
     "output_type": "execute_result"
    }
   ],
   "source": [
    "books.schema"
   ]
  },
  {
   "cell_type": "markdown",
   "metadata": {},
   "source": [
    "### Number of books applying to each category\n",
    "\n",
    "Note: a book may have several categories."
   ]
  },
  {
   "cell_type": "code",
   "execution_count": 30,
   "metadata": {
    "colab": {
     "base_uri": "https://localhost:8080/",
     "height": 1000
    },
    "executionInfo": {
     "elapsed": 337,
     "status": "error",
     "timestamp": 1671099101066,
     "user": {
      "displayName": "Keeks Keeks",
      "userId": "10987840626541342075"
     },
     "user_tz": 600
    },
    "id": "M4fgGj3gMiLI",
    "outputId": "33e438af-cf6e-4694-a93c-34a9c068c15e"
   },
   "outputs": [],
   "source": [
    "\n",
    "\n",
    "cat_counts =[0] * CAT_ID_COMP['Unique']\n",
    "\n",
    "def tally_cats(cats_str):\n",
    "    try:\n",
    "        cats_ints = str_to_int_list(cats_str)\n",
    "        for i in cats_ints:\n",
    "            # print('i', i)\n",
    "            cat_counts[i] += 1\n",
    "    except:\n",
    "        pass\n",
    "\n"
   ]
  },
  {
   "cell_type": "code",
   "execution_count": 31,
   "metadata": {},
   "outputs": [
    {
     "name": "stderr",
     "output_type": "stream",
     "text": [
      "  0%|          | 0/1110594 [00:00<?, ?it/s]"
     ]
    }
   ],
   "source": [
    "itr = tqdm(books.select('cat_ids_clean').toLocalIterator(), total=1110594)\n",
    "# itr = tqdm(books.toLocalIterator(), total=1110594)"
   ]
  },
  {
   "cell_type": "code",
   "execution_count": 32,
   "metadata": {},
   "outputs": [
    {
     "name": "stderr",
     "output_type": "stream",
     "text": [
      "100%|██████████| 1110594/1110594 [10:04<00:00, 1835.88it/s]\n"
     ]
    }
   ],
   "source": [
    "for i in itr:\n",
    "    tally_cats(str(i[0]))"
   ]
  },
  {
   "cell_type": "code",
   "execution_count": 33,
   "metadata": {},
   "outputs": [],
   "source": [
    "# cat_counts = pd.Series(cat_counts)\n",
    "# cat_counts.to_csv('temp.csv')"
   ]
  },
  {
   "cell_type": "markdown",
   "metadata": {},
   "source": [
    "## Category Clustering\n",
    "\n",
    "Each description may \n",
    "\n",
    "Code references [this HuggingFace article](https://huggingface.co/mrm8488/t5-base-finetuned-emotion)."
   ]
  },
  {
   "cell_type": "code",
   "execution_count": 150,
   "metadata": {
    "id": "TL4mmt1S5tE3"
   },
   "outputs": [],
   "source": [
    "tokenizer = AutoTokenizer.from_pretrained(\"mrm8488/t5-base-finetuned-emotion\")\n",
    "model = AutoModelWithLMHead.from_pretrained(\"mrm8488/t5-base-finetuned-emotion\")\n",
    "from nltk.tokenize import sent_tokenize\n",
    "clear_output()"
   ]
  },
  {
   "cell_type": "code",
   "execution_count": 50,
   "metadata": {},
   "outputs": [
    {
     "data": {
      "text/plain": [
       "['<pad>', '</s>', '<unk>', '', 'X', '.']"
      ]
     },
     "execution_count": 50,
     "metadata": {},
     "output_type": "execute_result"
    }
   ],
   "source": [
    "[tokenizer.decode(i) for i in range(6)]"
   ]
  },
  {
   "cell_type": "code",
   "execution_count": 62,
   "metadata": {},
   "outputs": [],
   "source": [
    "em_words = ['sadness', 'joy', 'love', 'anger', 'fear', 'surprise']\n",
    "em_word_to_id = pd.DataFrame.from_dict(\n",
    "    {w: i for i, w in enumerate(em_words)},\n",
    "    orient  = 'index',\n",
    "    columns = ['em_id']\n",
    ")"
   ]
  },
  {
   "cell_type": "code",
   "execution_count": 63,
   "metadata": {},
   "outputs": [
    {
     "data": {
      "text/html": [
       "<div>\n",
       "<style scoped>\n",
       "    .dataframe tbody tr th:only-of-type {\n",
       "        vertical-align: middle;\n",
       "    }\n",
       "\n",
       "    .dataframe tbody tr th {\n",
       "        vertical-align: top;\n",
       "    }\n",
       "\n",
       "    .dataframe thead th {\n",
       "        text-align: right;\n",
       "    }\n",
       "</style>\n",
       "<table border=\"1\" class=\"dataframe\">\n",
       "  <thead>\n",
       "    <tr style=\"text-align: right;\">\n",
       "      <th></th>\n",
       "      <th>em_id</th>\n",
       "    </tr>\n",
       "  </thead>\n",
       "  <tbody>\n",
       "    <tr>\n",
       "      <th>sadness</th>\n",
       "      <td>0</td>\n",
       "    </tr>\n",
       "    <tr>\n",
       "      <th>joy</th>\n",
       "      <td>1</td>\n",
       "    </tr>\n",
       "    <tr>\n",
       "      <th>love</th>\n",
       "      <td>2</td>\n",
       "    </tr>\n",
       "    <tr>\n",
       "      <th>anger</th>\n",
       "      <td>3</td>\n",
       "    </tr>\n",
       "    <tr>\n",
       "      <th>fear</th>\n",
       "      <td>4</td>\n",
       "    </tr>\n",
       "    <tr>\n",
       "      <th>surprise</th>\n",
       "      <td>5</td>\n",
       "    </tr>\n",
       "  </tbody>\n",
       "</table>\n",
       "</div>"
      ],
      "text/plain": [
       "          em_id\n",
       "sadness       0\n",
       "joy           1\n",
       "love          2\n",
       "anger         3\n",
       "fear          4\n",
       "surprise      5"
      ]
     },
     "execution_count": 63,
     "metadata": {},
     "output_type": "execute_result"
    }
   ],
   "source": [
    "em_word_to_id"
   ]
  },
  {
   "cell_type": "code",
   "execution_count": 75,
   "metadata": {
    "id": "cmSH6PspCf5e"
   },
   "outputs": [],
   "source": [
    "# Outputs an ID\n",
    "def predict_em_id(text):\n",
    "    input_ids = tokenizer.encode(text + '</s>', return_tensors='pt')\n",
    "\n",
    "    output = model.generate(input_ids=input_ids,\n",
    "                   max_length=2)\n",
    "    dec = [tokenizer.decode(ids) for ids in output]\n",
    "    label = dec[0][6:]\n",
    "    return em_word_to_id.loc[label].values[0]"
   ]
  },
  {
   "cell_type": "code",
   "execution_count": 45,
   "metadata": {},
   "outputs": [],
   "source": [
    "x = books.first()['desc']"
   ]
  },
  {
   "cell_type": "code",
   "execution_count": 77,
   "metadata": {},
   "outputs": [
    {
     "data": {
      "text/plain": [
       "[4, 1]"
      ]
     },
     "execution_count": 77,
     "metadata": {},
     "output_type": "execute_result"
    }
   ],
   "source": [
    "[predict_em_id(s) for s in x.split('. ')]"
   ]
  },
  {
   "cell_type": "code",
   "execution_count": 114,
   "metadata": {},
   "outputs": [
    {
     "data": {
      "text/plain": [
       "numpy.int64"
      ]
     },
     "execution_count": 114,
     "metadata": {},
     "output_type": "execute_result"
    }
   ],
   "source": [
    "type(predict_em_id('hey'))"
   ]
  },
  {
   "cell_type": "markdown",
   "metadata": {},
   "source": [
    "### Top categories\n",
    "\n",
    "The category name file has less than 3000 rows, so we will temporarily fit it into RAM to inspect the most common categories"
   ]
  },
  {
   "cell_type": "code",
   "execution_count": null,
   "metadata": {},
   "outputs": [],
   "source": [
    "cats_top_10 = cat_counts.sort_values(ascending=False).head(10)"
   ]
  },
  {
   "cell_type": "markdown",
   "metadata": {},
   "source": [
    "### Category-Emotion Co-occurrences\n",
    "\n",
    "These will be stored (encoded as integers) in a NumPy array.\n",
    "\n",
    "One row for each category ID; one column for each emotion ID."
   ]
  },
  {
   "cell_type": "code",
   "execution_count": 123,
   "metadata": {},
   "outputs": [],
   "source": [
    "cat_em_cos = np.zeros(\n",
    "    shape=(CAT_ID_COMP['Unique'], 6)\n",
    ")"
   ]
  },
  {
   "cell_type": "code",
   "execution_count": 80,
   "metadata": {},
   "outputs": [
    {
     "data": {
      "text/plain": [
       "(2585, 6)"
      ]
     },
     "execution_count": 80,
     "metadata": {},
     "output_type": "execute_result"
    }
   ],
   "source": [
    "cat_em_cos.shape"
   ]
  },
  {
   "cell_type": "code",
   "execution_count": 200,
   "metadata": {},
   "outputs": [],
   "source": [
    "del itr2"
   ]
  },
  {
   "cell_type": "code",
   "execution_count": 201,
   "metadata": {},
   "outputs": [
    {
     "name": "stderr",
     "output_type": "stream",
     "text": [
      "  0%|          | 0/1110594 [00:00<?, ?it/s]"
     ]
    }
   ],
   "source": [
    "itr2 = tqdm(books.toLocalIterator(), total=1110594)"
   ]
  },
  {
   "cell_type": "code",
   "execution_count": 216,
   "metadata": {},
   "outputs": [],
   "source": [
    "t = 0\n",
    "def tally_cat_em_cos(row):\n",
    "    desc = row['desc']\n",
    "    print(desc)\n",
    "    try:\n",
    "        cat_ids = str_to_int_list(row['cat_ids_clean'])\n",
    "        print(cat_ids)\n",
    "        if len(cat_ids) > 0:\n",
    "            # Loop through sentences.\n",
    "            for s in sent_tokenize(desc):\n",
    "            # print(sens)\n",
    "                # print('cl', len(cat_ids))\n",
    "                ei = predict_em_id(s)\n",
    "                print(sen_em_ids)\n",
    "                for sei in sen_em_ids:\n",
    "                    print('s', sei)\n",
    "                    for c in cat_ids:\n",
    "                        print('s,c', sei, c)\n",
    "        # print(type(em_ids))\n",
    "                        cat_em_cos[c, sei] += 1\n",
    "    except:\n",
    "        pass"
   ]
  },
  {
   "cell_type": "code",
   "execution_count": 217,
   "metadata": {},
   "outputs": [
    {
     "name": "stdout",
     "output_type": "stream",
     "text": [
      "Imagine you are fluent in a magical language of prophecy, a language so powerful it can accurately describe things you cannot see or even imagine. Einstein's Heroes takes you on a journey of discovery about just such a miraculous language-the language of mathematics-one of humanity's most amazing accomplishments.\n",
      "[259, 264, 1127, 1131, 1441, 1863]\n",
      "1\n"
     ]
    }
   ],
   "source": [
    "e = 0\n",
    "for row in itr2:\n",
    "    if e < 1:\n",
    "        tally_cat_em_cos(row)\n",
    "        e += 1\n",
    "    else:\n",
    "        break"
   ]
  },
  {
   "cell_type": "code",
   "execution_count": 213,
   "metadata": {},
   "outputs": [
    {
     "data": {
      "text/plain": [
       "0"
      ]
     },
     "execution_count": 213,
     "metadata": {},
     "output_type": "execute_result"
    }
   ],
   "source": [
    "t"
   ]
  },
  {
   "cell_type": "code",
   "execution_count": 206,
   "metadata": {},
   "outputs": [
    {
     "data": {
      "text/plain": [
       "111.0"
      ]
     },
     "execution_count": 206,
     "metadata": {},
     "output_type": "execute_result"
    }
   ],
   "source": [
    "np.sum(cat_em_cos)"
   ]
  },
  {
   "cell_type": "code",
   "execution_count": 154,
   "metadata": {},
   "outputs": [],
   "source": [
    "xy = sent_tokenize('Explores the sources in real life of all the Tintin adventures. Many people dismiss the world of the paranormal as impossible. Others, based on their own unsatisfactory experiences, conclude that all claims of profound intuitiveness amount to fakery. Fictionalized images of sorcerers and soothsayers consorting with unholy forces linger among us, while media exposés of pseudo-psychics leave little room for the voices of genuinely gifted extrasensory consultants to be heard and fairly judged')"
   ]
  },
  {
   "cell_type": "code",
   "execution_count": 155,
   "metadata": {},
   "outputs": [
    {
     "data": {
      "text/plain": [
       "list"
      ]
     },
     "execution_count": 155,
     "metadata": {},
     "output_type": "execute_result"
    }
   ],
   "source": [
    "type(xy)"
   ]
  },
  {
   "cell_type": "code",
   "execution_count": 162,
   "metadata": {},
   "outputs": [],
   "source": [
    "xx = np.array([[0,0,0],[1,1,1]])"
   ]
  },
  {
   "cell_type": "code",
   "execution_count": 163,
   "metadata": {},
   "outputs": [],
   "source": [
    "xx[[0,1], [1,2]]+= 10"
   ]
  },
  {
   "cell_type": "code",
   "execution_count": 164,
   "metadata": {},
   "outputs": [
    {
     "data": {
      "text/plain": [
       "array([[ 0, 10,  0],\n",
       "       [ 1,  1, 11]])"
      ]
     },
     "execution_count": 164,
     "metadata": {},
     "output_type": "execute_result"
    }
   ],
   "source": [
    "xx"
   ]
  },
  {
   "cell_type": "code",
   "execution_count": null,
   "metadata": {
    "id": "Tao2jgdOQ0aV"
   },
   "outputs": [],
   "source": [
    "\n",
    "\n",
    "cats_top_10 = pd.DataFrame.from_dict(dict(\n",
    "    name  = [\n",
    "        cat_id_to_name(cat_id) for cat_id in cats_top_10.index\n",
    "    ],\n",
    "    count    = cats_top_10,\n",
    "    fraction = cats_top_10 / books.count()\n",
    "    \n",
    "))\n",
    "cats_top_10"
   ]
  },
  {
   "cell_type": "code",
   "execution_count": null,
   "metadata": {},
   "outputs": [],
   "source": []
  },
  {
   "cell_type": "markdown",
   "metadata": {
    "id": "QmdEA0uyk3tM"
   },
   "source": [
    "## Data Cleaning\n",
    "\n"
   ]
  },
  {
   "cell_type": "code",
   "execution_count": null,
   "metadata": {
    "colab": {
     "base_uri": "https://localhost:8080/",
     "height": 389
    },
    "executionInfo": {
     "elapsed": 5330,
     "status": "error",
     "timestamp": 1670936565432,
     "user": {
      "displayName": "Keeks Keeks",
      "userId": "10987840626541342075"
     },
     "user_tz": 600
    },
    "id": "PTBvzttMlID-",
    "outputId": "35eeeec7-48fb-4500-81e7-4d2ffcff75db"
   },
   "outputs": [],
   "source": [
    "iter = tqdm(\n",
    "    pd.read_csv(PATHS['books_raw'], chunksize=25),\n",
    "    total = NCHUNKS['books_raw']\n",
    ")\n",
    "for chunk in iter:\n",
    "    pass"
   ]
  },
  {
   "cell_type": "markdown",
   "metadata": {
    "id": "vzSnFqLt0WhA"
   },
   "source": [
    "## Data Overviews"
   ]
  },
  {
   "cell_type": "code",
   "execution_count": null,
   "metadata": {
    "id": "rrXrK0-XCUSu"
   },
   "outputs": [],
   "source": [
    "get_emotion(\"i feel as if i havent blogged in ages are at least truly blogged i am doing an update cute\") # Output: 'joy'"
   ]
  },
  {
   "cell_type": "code",
   "execution_count": null,
   "metadata": {
    "id": "0ZsMdlsOCWwi"
   },
   "outputs": [],
   "source": [
    "get_emotion(\"i have a feeling i kinda lost my best friend\") # Output: 'sadness'"
   ]
  },
  {
   "cell_type": "code",
   "execution_count": null,
   "metadata": {
    "id": "US-KLrknCkRz"
   },
   "outputs": [],
   "source": [
    "get_emotion(df.at[0, 'desc'])"
   ]
  }
 ],
 "metadata": {
  "accelerator": "GPU",
  "colab": {
   "machine_shape": "hm",
   "provenance": []
  },
  "gpuClass": "premium",
  "kernelspec": {
   "display_name": "Python 3 (ipykernel)",
   "language": "python",
   "name": "python3"
  },
  "language_info": {
   "codemirror_mode": {
    "name": "ipython",
    "version": 3
   },
   "file_extension": ".py",
   "mimetype": "text/x-python",
   "name": "python",
   "nbconvert_exporter": "python",
   "pygments_lexer": "ipython3",
   "version": "3.10.8"
  },
  "vscode": {
   "interpreter": {
    "hash": "bc3ac2fb06daffc7f42bf20d95b9941d78ae9f0266cf17182dd80a017f562d3a"
   }
  }
 },
 "nbformat": 4,
 "nbformat_minor": 4
}
